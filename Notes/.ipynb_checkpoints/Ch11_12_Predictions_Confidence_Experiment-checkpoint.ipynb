{
 "cells": [
  {
   "cell_type": "markdown",
   "metadata": {},
   "source": [
    "# 프로그래밍을 이용한 주사위 던지기 모의실험\n",
    "\n",
    "모의실험을 이용하여 \"주사위 6번 던지기\"를 반복적으로 실행할 때 숫자 1이 나오는 횟수의 평균의 분포를 확인하고자 한다.\n",
    "즉, 주사위를 6번 던져서 숫자 1이 평균 1회 나와야 한다는 사실을 실험을 통해 확인한다.\n",
    "또한, 주사위를 6번 던져서 숫자 1이 나오는 횟수의 평균분포가 정규분포를 따른다는 사실을 실험적으로 확인한다."
   ]
  },
  {
   "cell_type": "markdown",
   "metadata": {},
   "source": [
    "## 파이썬 프로그래밍 안내\n",
    "\n",
    "모의실험은 파이썬(Python)이라는 언어를 이용하며, 두 가지 방식으로 제공된다.\n",
    "\n",
    "* 방식 1: 파이썬의 아주 기초적인 명령어만 사용한다.\n",
    "    * 이 방식은 파이썬의 기본만 설치하면 실행할 수 있다.\n",
    "    * 파이썬 기본은 아래 사이트에서 무료로 다운받아 설치할 수 있다.\n",
    "    > https://www.python.org/downloads/\n",
    "    * 위 사이트에는 파이썬 3.6.x 버전과 2.7.x 버전이 제공된다. \n",
    "        아래 코드를 실행하기 위해서는 어느 버전도 상관이 없다. \n",
    "        다만 앞으로 3점대 버전이 점점 더 많이 사용된다는 점만 고려하면 된다.\n",
    "\n",
    "\n",
    "* 방식 2: 파이썬의 고급 기능을 활용한다.\n",
    "    * 이 방식은 파이썬 기본 팩키지 이외에 추가 라이브러리를 요구한다.\n",
    "    * 파이썬 기본을 설치하는 대신에 아래 사이트에서 무료로 다운 받아 설치할 수 있는 \n",
    "        아나콘다(Anaconda) 팩키지를 사용하면 된다.\n",
    "        > https://www.anaconda.com/download/\n",
    "    * 아나콘다 팩키지는 파이썬 기본과 더불어 데이터분석을 위한 통계 팩키지 등을 추가로 함께 설치한다.\n",
    "    * 위 사이트 또한 파이썬 3.6.x 버전과 2.7.x 버전이 제공한다. \n",
    "        아래 코드를 실행하기 위해서는 어느 버전도 상관이 없다. \n",
    "        다만 앞으로 3점대 버전이 점점 더 많이 사용된다는 점만 고려하면 된다. \n",
    "    * 참고사항: 방식 2는 컴퓨터공학과 2학년 2학기 교육과정의 공업수학에서 다루는 \n",
    "        \"파이썬을 활용한 데이터분석\"에 포함되는 내용이다."
   ]
  },
  {
   "cell_type": "markdown",
   "metadata": {},
   "source": [
    "**주의:** 파이썬 3점대 버전을 사용한다면 아래 코드는 필요 없다."
   ]
  },
  {
   "cell_type": "code",
   "execution_count": 1,
   "metadata": {
    "collapsed": true
   },
   "outputs": [],
   "source": [
    "from __future__ import print_function, division"
   ]
  },
  {
   "cell_type": "markdown",
   "metadata": {},
   "source": [
    "## 방식 1\n",
    "\n",
    "**참고:** 이 방식은 육현진 학생(회장님)이 직접 작성한 코드를 응용하였다."
   ]
  },
  {
   "cell_type": "markdown",
   "metadata": {},
   "source": [
    "### 주사위 6번 던지기\n",
    "\n",
    "숫자를 무작위로 생성하거나 선택하는 함수가 필요하며, 여기서는 random 모듈의 choice 함수를 활용한다."
   ]
  },
  {
   "cell_type": "code",
   "execution_count": 2,
   "metadata": {
    "collapsed": true
   },
   "outputs": [],
   "source": [
    "import random"
   ]
  },
  {
   "cell_type": "markdown",
   "metadata": {},
   "source": [
    "주사위에는 1부터 6까지는 숫자가 있으며, 이것을 모델링 해야 한다.\n",
    "아래 dice 변수가 주사위 모델을 대행한다.\n",
    "\n",
    "**주의:** `[1, 2, 3, 4, 5, 6]`은 1~6의 숫자를 담고 있는 리스트이다."
   ]
  },
  {
   "cell_type": "code",
   "execution_count": 3,
   "metadata": {
    "collapsed": true
   },
   "outputs": [],
   "source": [
    "dice = [1, 2, 3, 4, 5, 6]"
   ]
  },
  {
   "cell_type": "markdown",
   "metadata": {},
   "source": [
    "주사위를 굴리면 숫자가 임의로 결정된다. \n",
    "이것은 choice 함수를 활용하여 1~6 사이의 숫자를 임의로 선택하게 하는 방식으로 구현한다.\n",
    "\n",
    "예를 들어, 아래 코드는 주사위를 한 번 굴리는 것을 모델링한다."
   ]
  },
  {
   "cell_type": "code",
   "execution_count": 4,
   "metadata": {},
   "outputs": [
    {
     "data": {
      "text/plain": [
       "1"
      ]
     },
     "execution_count": 4,
     "metadata": {},
     "output_type": "execute_result"
    }
   ],
   "source": [
    "random.choice(dice)"
   ]
  },
  {
   "cell_type": "markdown",
   "metadata": {},
   "source": [
    "choice 함수는 실행할 때마다 dice 에서 임의로 하나를 선택해서 되돌려 준다."
   ]
  },
  {
   "cell_type": "code",
   "execution_count": 5,
   "metadata": {},
   "outputs": [
    {
     "data": {
      "text/plain": [
       "4"
      ]
     },
     "execution_count": 5,
     "metadata": {},
     "output_type": "execute_result"
    }
   ],
   "source": [
    "random.choice(dice)"
   ]
  },
  {
   "cell_type": "markdown",
   "metadata": {},
   "source": [
    "\"주사위 6번 던지기\"는 for-반복문을 이용하여 아래와 같이 구현할 수 있다.\n",
    "\n",
    "코드 설명:\n",
    "\n",
    "* `dice_throwing`: 주사위를 여러 번 던지는 것을 구현한 함수이다.\n",
    "    * 인자: 정수를 입력하면 입력된 숫자만큼 주사위를 던진다.\n",
    "    * 리턴값: 주사위를 던질 때마다 나온 결과를 모아 둔 리스트를 리턴한다.\n",
    "* `results` 변수: 주사위를 던져서 나온 결과들을 담는 리스트\n",
    "* `append` 함수: 리스트에 값을 추가하는 기능을 가진 함수\n",
    "* `range(num)`: `[0, ..., num-1]`의 리스트라고 생각하면 된다."
   ]
  },
  {
   "cell_type": "code",
   "execution_count": 6,
   "metadata": {},
   "outputs": [],
   "source": [
    "def dice_throwing(num):\n",
    "    results = []\n",
    "\n",
    "    for i in range(num):\n",
    "        a_dice_throwing = random.choice(dice)\n",
    "        results.append(a_dice_throwing)\n",
    "\n",
    "    return results"
   ]
  },
  {
   "cell_type": "markdown",
   "metadata": {},
   "source": [
    "위 함수를 이용하여 코드 6번 던지기를 구현하는 것은 매우 쉽다."
   ]
  },
  {
   "cell_type": "code",
   "execution_count": 7,
   "metadata": {},
   "outputs": [
    {
     "data": {
      "text/plain": [
       "[6, 6, 5, 1, 3, 6]"
      ]
     },
     "execution_count": 7,
     "metadata": {},
     "output_type": "execute_result"
    }
   ],
   "source": [
    "dice_throwing(6)"
   ]
  },
  {
   "cell_type": "markdown",
   "metadata": {},
   "source": [
    "위 함수를 호출할 때마다 다른 결과가 나온다."
   ]
  },
  {
   "cell_type": "code",
   "execution_count": 8,
   "metadata": {},
   "outputs": [
    {
     "data": {
      "text/plain": [
       "[6, 5, 6, 1, 6, 6]"
      ]
     },
     "execution_count": 8,
     "metadata": {},
     "output_type": "execute_result"
    }
   ],
   "source": [
    "dice_throwing(6)"
   ]
  },
  {
   "cell_type": "markdown",
   "metadata": {},
   "source": [
    "리스트에 특정 항목이 나오는 횟수를 세는 count라는 함수가 존재하며, 사용방식은 다음과 같다."
   ]
  },
  {
   "cell_type": "code",
   "execution_count": 9,
   "metadata": {},
   "outputs": [
    {
     "data": {
      "text/plain": [
       "2"
      ]
     },
     "execution_count": 9,
     "metadata": {},
     "output_type": "execute_result"
    }
   ],
   "source": [
    "dice_throwing(6).count(1)"
   ]
  },
  {
   "cell_type": "code",
   "execution_count": 10,
   "metadata": {},
   "outputs": [
    {
     "data": {
      "text/plain": [
       "0"
      ]
     },
     "execution_count": 10,
     "metadata": {},
     "output_type": "execute_result"
    }
   ],
   "source": [
    "dice_throwing(6).count(1)"
   ]
  },
  {
   "cell_type": "markdown",
   "metadata": {},
   "source": [
    "### \"주사위 6번 던지기\"를 반복하기"
   ]
  },
  {
   "cell_type": "markdown",
   "metadata": {},
   "source": [
    "\"주사위 6번 던지기\"를 원하는 횟수만큼 반복하기를 구현하도록 하자.\n",
    "\n",
    "`dice_experiment` 함수 설명\n",
    "* 인자: `num1`과 `num2`\n",
    "    * `num1`: 주사위를 `num1`번 던지기를 위해 사용됨.\n",
    "    * `num2`: \"주사위 `num1`번 던지기\"를 `num2`번 반복하기 \n",
    "* `count_ones`: \"주사위 `num1`번 던지기`를 할 때마다 숫자 1이 나온 횟수를 저장하는 리스트"
   ]
  },
  {
   "cell_type": "code",
   "execution_count": 11,
   "metadata": {
    "collapsed": true
   },
   "outputs": [],
   "source": [
    "def dice_experiment(num1, num2):\n",
    "\n",
    "    count_ones = []\n",
    "    \n",
    "    for times in range(num2):\n",
    "        experiment = dice_throwing(num1)\n",
    "        num_of_ones = experiment.count(1)\n",
    "        count_ones.append(num_of_ones)\n",
    "    \n",
    "    return count_ones"
   ]
  },
  {
   "cell_type": "markdown",
   "metadata": {},
   "source": [
    "\"주사위 6번 던지기\"를 30번 반복한 결과는 아래와 같이 구한다."
   ]
  },
  {
   "cell_type": "code",
   "execution_count": 12,
   "metadata": {},
   "outputs": [
    {
     "name": "stdout",
     "output_type": "stream",
     "text": [
      "[2, 2, 2, 1, 0, 1, 1, 1, 0, 0, 1, 1, 2, 1, 0, 0, 1, 1, 0, 0, 0, 0, 1, 2, 2, 2, 3, 0, 2, 0]\n"
     ]
    }
   ],
   "source": [
    "print(dice_experiment(6, 30))"
   ]
  },
  {
   "cell_type": "markdown",
   "metadata": {},
   "source": [
    "실험결과의 평균값은 아래 함수를 활용한다."
   ]
  },
  {
   "cell_type": "code",
   "execution_count": 13,
   "metadata": {
    "collapsed": true
   },
   "outputs": [],
   "source": [
    "def dice_experiment_mean(num1, num2):\n",
    "    exp_mean = sum(dice_experiment(num1, num2)) / num2\n",
    "    return exp_mean"
   ]
  },
  {
   "cell_type": "markdown",
   "metadata": {},
   "source": [
    "\"주사위 6번 던지기\"를 30번 반복할 때 숫자 1이 나오는 횟수의 평균값은 아래와 같이 구한다.\n",
    "\n",
    "**주의:** 아래 코드를 실행할 때마다 값이 달라진다."
   ]
  },
  {
   "cell_type": "code",
   "execution_count": 14,
   "metadata": {},
   "outputs": [
    {
     "data": {
      "text/plain": [
       "0.9333333333333333"
      ]
     },
     "execution_count": 14,
     "metadata": {},
     "output_type": "execute_result"
    }
   ],
   "source": [
    "dice_experiment_mean(6, 30)"
   ]
  },
  {
   "cell_type": "markdown",
   "metadata": {},
   "source": [
    "## 방식 2\n",
    "\n",
    "이 방식은 파이썬 초보자가 이해하기에는 어려울 수 있는 고급기술이 포함되어 있다.\n",
    "하지만 설명 위주로 보면 충분히 내용을 이해할 수 있다."
   ]
  },
  {
   "cell_type": "markdown",
   "metadata": {},
   "source": [
    "### 주사위 6번 던지기"
   ]
  },
  {
   "cell_type": "markdown",
   "metadata": {},
   "source": [
    "주사위를 던지면 1에서 6까지의 정수가 무작위로 나온다.\n",
    "이런 성질을 코딩에서는 \"난수 생성\"으로 구현할 수 있다.\n",
    "\n",
    "모든 프로그래밍언어네는 난수를 생성하는 기능이 들어 있으며, 여기서는 파이썬(Python)이라는 언어를 사용한다. "
   ]
  },
  {
   "cell_type": "markdown",
   "metadata": {},
   "source": [
    "#### 파이썬에서 무작위로 숫자 생성하기\n",
    "\n",
    "numpy라는 라이브러리에서 제공하는 randint 함수를 이용하여 지정된 구간에서 정수를 무작위로 생성할 수 있다."
   ]
  },
  {
   "cell_type": "code",
   "execution_count": 15,
   "metadata": {
    "collapsed": true
   },
   "outputs": [],
   "source": [
    "import numpy as np"
   ]
  },
  {
   "cell_type": "markdown",
   "metadata": {},
   "source": [
    "예를 들어, 아래 코드는 0과 10 사이의 정수를 무작위적으로 5개 생성한다.\n",
    "\n",
    "주의:\n",
    "* 0은 포함됨\n",
    "* 10은 포함되지 않음"
   ]
  },
  {
   "cell_type": "code",
   "execution_count": 16,
   "metadata": {},
   "outputs": [
    {
     "data": {
      "text/plain": [
       "array([7, 5, 0, 4, 5])"
      ]
     },
     "execution_count": 16,
     "metadata": {},
     "output_type": "execute_result"
    }
   ],
   "source": [
    "np.random.randint(0, 10, 5)"
   ]
  },
  {
   "cell_type": "markdown",
   "metadata": {},
   "source": [
    "따라서 주사위를 6번 던진 결과를 생성하는 코드는 다음과 같다."
   ]
  },
  {
   "cell_type": "code",
   "execution_count": 17,
   "metadata": {
    "collapsed": true
   },
   "outputs": [],
   "source": [
    "cube_6_times = np.random.randint(1,7,6)"
   ]
  },
  {
   "cell_type": "code",
   "execution_count": 18,
   "metadata": {},
   "outputs": [
    {
     "data": {
      "text/plain": [
       "array([3, 2, 5, 3, 1, 5])"
      ]
     },
     "execution_count": 18,
     "metadata": {},
     "output_type": "execute_result"
    }
   ],
   "source": [
    "cube_6_times"
   ]
  },
  {
   "cell_type": "markdown",
   "metadata": {},
   "source": [
    "### \"주사위 6번 던지기\"를 반복하기"
   ]
  },
  {
   "cell_type": "markdown",
   "metadata": {},
   "source": [
    "\"주사위 6번 던지기\"를 원하는 횟수만큼 반복하기를 구현하도록 하자.\n",
    "dice_experiment 함수에 대한 설명은 버전1에서의 설명과 동일하다."
   ]
  },
  {
   "cell_type": "code",
   "execution_count": 19,
   "metadata": {
    "collapsed": true
   },
   "outputs": [],
   "source": [
    "def dice_experiment(num1, num2):\n",
    "\n",
    "    count_ones = np.empty([num2,], dtype=float)\n",
    "    \n",
    "    for times in np.arange(num2):\n",
    "        experiment = np.random.randint(1,7,num1)\n",
    "        count_ones[times] = experiment[experiment==1].shape[0]\n",
    "    \n",
    "    return count_ones"
   ]
  },
  {
   "cell_type": "code",
   "execution_count": 20,
   "metadata": {},
   "outputs": [
    {
     "name": "stdout",
     "output_type": "stream",
     "text": [
      "[ 2.  1.  1.  2.  1.  0.  2.  0.  1.  0.  1.  0.  0.  1.  2.  0.  1.  0.\n",
      "  0.  1.  1.  2.  2.  2.  1.  3.  2.  1.  1.  0.]\n"
     ]
    }
   ],
   "source": [
    "print(dice_experiment(6, 30))"
   ]
  },
  {
   "cell_type": "markdown",
   "metadata": {},
   "source": [
    "### 표본평균의 분포"
   ]
  },
  {
   "cell_type": "markdown",
   "metadata": {},
   "source": [
    "그래프 관련 라이브러리가 필요하다."
   ]
  },
  {
   "cell_type": "code",
   "execution_count": 21,
   "metadata": {
    "collapsed": true
   },
   "outputs": [],
   "source": [
    "import matplotlib.pyplot as plt\n",
    "%matplotlib inline\n",
    "\n",
    "import seaborn as sns\n",
    "sns.set(color_codes = True)"
   ]
  },
  {
   "cell_type": "markdown",
   "metadata": {},
   "source": [
    "'주사위 6번 던지기'를 30번 반복했을 때 1이 나온 평균들의 분포를 알아보자.\n",
    "\n",
    "표본평균의 분포를 그래프로 확인하기 위해 \"'주사위 6번 던지기'를 30번 반복하기\"를 1000번 정도 해보도록 하자."
   ]
  },
  {
   "cell_type": "code",
   "execution_count": 22,
   "metadata": {},
   "outputs": [
    {
     "data": {
      "text/plain": [
       "<matplotlib.axes._subplots.AxesSubplot at 0x11380acd0>"
      ]
     },
     "execution_count": 22,
     "metadata": {},
     "output_type": "execute_result"
    },
    {
     "data": {
      "image/png": "[encoded data removed]",
      "text/plain": [
       "<matplotlib.figure.Figure at 0x11380a510>"
      ]
     },
     "metadata": {},
     "output_type": "display_data"
    }
   ],
   "source": [
    "count_ones_mean = np.empty([1000, ], dtype=float)\n",
    "\n",
    "for times in np.arange(1000):\n",
    "    count_ones_mean[times] = dice_experiment(6, 30).mean()\n",
    "\n",
    "sns.distplot(count_ones_mean, kde=True)"
   ]
  },
  {
   "cell_type": "markdown",
   "metadata": {},
   "source": [
    "### 신뢰구간\n",
    "\n",
    "\n",
    "\"동전 6번 던지기\"를 30번 반복했을 때 숫자 1이 나오는 평균횟수의 신뢰구간을 다음과 같이 구할 수 있다.\n",
    "신뢰수준은 95%를 사용한다."
   ]
  },
  {
   "cell_type": "code",
   "execution_count": 23,
   "metadata": {
    "collapsed": true
   },
   "outputs": [],
   "source": [
    "from scipy import stats"
   ]
  },
  {
   "cell_type": "code",
   "execution_count": 24,
   "metadata": {},
   "outputs": [
    {
     "data": {
      "text/plain": [
       "(0.68214041525950175, 1.2511929180738317)"
      ]
     },
     "execution_count": 24,
     "metadata": {},
     "output_type": "execute_result"
    }
   ],
   "source": [
    "dice_6_30 = dice_experiment(6,30)\n",
    "stats.norm.interval(0.95, loc=dice_6_30.mean(), scale=dice_6_30.std()/np.sqrt(30))"
   ]
  }
 ],
 "metadata": {
  "kernelspec": {
   "display_name": "Python 2",
   "language": "python",
   "name": "python2"
  },
  "language_info": {
   "codemirror_mode": {
    "name": "ipython",
    "version": 2
   },
   "file_extension": ".py",
   "mimetype": "text/x-python",
   "name": "python",
   "nbconvert_exporter": "python",
   "pygments_lexer": "ipython2",
   "version": "2.7.13"
  }
 },
 "nbformat": 4,
 "nbformat_minor": 1
}
