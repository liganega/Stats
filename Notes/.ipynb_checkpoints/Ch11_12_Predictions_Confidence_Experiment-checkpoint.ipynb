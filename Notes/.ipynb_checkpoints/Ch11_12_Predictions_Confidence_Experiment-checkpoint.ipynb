{
 "cells": [
  {
   "cell_type": "markdown",
   "metadata": {},
   "source": [
    "# 프로그래밍을 이용한 주사위 던지기 모의실험\n",
    "\n",
    "모의실험을 이용하여 \"주사위 6번 던지기\"를 반복적으로 실행할 때 숫자 1이 나오는 횟수의 평균의 분포를 확인하고자 한다.\n",
    "즉, 주사위를 6번 던져서 숫자 1이 평균 1회 나와야 한다는 사실을 실험을 통해 확인한다.\n",
    "또한, 주사위를 6번 던져서 숫자 1이 나오는 횟수의 평균분포가 정규분포를 따른다는 사실을 실험적으로 확인한다."
   ]
  },
  {
   "cell_type": "markdown",
   "metadata": {},
   "source": [
    "## 모의실험 1: 주사위 6번 던지기"
   ]
  },
  {
   "cell_type": "markdown",
   "metadata": {},
   "source": [
    "주사위를 던지면 1에서 6까지의 정수가 무작위로 나온다.\n",
    "이런 성질을 코딩에서는 \"난수 생성\"으로 구현할 수 있다.\n",
    "\n",
    "모든 프로그래밍언어네는 난수를 생성하는 기능이 들어 있으며, 여기서는 파이썬(Python)이라는 언어를 사용한다. "
   ]
  },
  {
   "cell_type": "markdown",
   "metadata": {},
   "source": [
    "### 파이썬에서 무작위로 생성하기\n",
    "\n",
    "numpy라는 라이브러리에서 제공하는 randint 함수를 이용하여 지정된 구간에서 정수를 무작위로 생성할 수 있다."
   ]
  },
  {
   "cell_type": "code",
   "execution_count": 1,
   "metadata": {
    "collapsed": true
   },
   "outputs": [],
   "source": [
    "import numpy as np"
   ]
  },
  {
   "cell_type": "markdown",
   "metadata": {},
   "source": [
    "예를 들어, 아래 코드는 0과 10 사이의 정수를 무작위적으로 5개 생성한다.\n",
    "\n",
    "주의:\n",
    "* 0은 포함됨\n",
    "* 10은 포함되지 않음"
   ]
  },
  {
   "cell_type": "code",
   "execution_count": 2,
   "metadata": {},
   "outputs": [
    {
     "data": {
      "text/plain": [
       "array([5, 6, 3, 4, 7])"
      ]
     },
     "execution_count": 2,
     "metadata": {},
     "output_type": "execute_result"
    }
   ],
   "source": [
    "np.random.randint(0, 10, 5)"
   ]
  },
  {
   "cell_type": "markdown",
   "metadata": {},
   "source": [
    "따라서 주사위를 6번 던진 결과를 생성하는 코드는 다음과 같다."
   ]
  },
  {
   "cell_type": "code",
   "execution_count": 3,
   "metadata": {
    "collapsed": true
   },
   "outputs": [],
   "source": [
    "cube_6_times = np.random.randint(1,7,6)"
   ]
  },
  {
   "cell_type": "code",
   "execution_count": 4,
   "metadata": {},
   "outputs": [
    {
     "data": {
      "text/plain": [
       "array([4, 6, 2, 3, 6, 1])"
      ]
     },
     "execution_count": 4,
     "metadata": {},
     "output_type": "execute_result"
    }
   ],
   "source": [
    "cube_6_times"
   ]
  },
  {
   "cell_type": "markdown",
   "metadata": {},
   "source": [
    "## 모의실험 2: \"주사위 6번 던지기\"를 반복하기"
   ]
  },
  {
   "cell_type": "markdown",
   "metadata": {},
   "source": [
    "모의실험 1을 원하는 횟수만큼 반복하기를 구현하도록 하자.\n",
    "\n",
    "아래 코드에 정의된 cube_experiment 함수는 반복횟수를 입력 받으면 \"주사위 6번 던지기\"를 지정된 반복횟수만큼 반복하고, 반복할 때마다 1이 나온 횟수를 기록한다."
   ]
  },
  {
   "cell_type": "code",
   "execution_count": 5,
   "metadata": {
    "collapsed": true
   },
   "outputs": [],
   "source": [
    "def cube_experiment(num_to_repeat):\n",
    "\n",
    "    count_ones = np.empty([num_to_repeat,], dtype=float)\n",
    "    \n",
    "    for times in np.arange(num_to_repeat):\n",
    "        experiment = np.random.randint(1,7,6)\n",
    "        count_ones[times] = experiment[experiment==1].shape[0]\n",
    "    \n",
    "    return count_ones"
   ]
  },
  {
   "cell_type": "code",
   "execution_count": 6,
   "metadata": {},
   "outputs": [
    {
     "name": "stdout",
     "output_type": "stream",
     "text": [
      "[ 1.  0.  1.  1.  1.  1.  0.  2.  2.  0.  0.  1.  1.  1.  0.  1.  3.  1.\n",
      "  1.  0.  1.  0.  1.  0.  1.  0.  2.  0.  0.  1.]\n"
     ]
    }
   ],
   "source": [
    "print(cube_experiment(30))"
   ]
  },
  {
   "cell_type": "markdown",
   "metadata": {},
   "source": [
    "## 표본평균의 분포"
   ]
  },
  {
   "cell_type": "markdown",
   "metadata": {},
   "source": [
    "그래프 관련 라이브러리가 필요하다."
   ]
  },
  {
   "cell_type": "code",
   "execution_count": 7,
   "metadata": {
    "collapsed": true
   },
   "outputs": [],
   "source": [
    "import matplotlib.pyplot as plt\n",
    "%matplotlib inline\n",
    "\n",
    "import seaborn as sns\n",
    "sns.set(color_codes = True)"
   ]
  },
  {
   "cell_type": "markdown",
   "metadata": {},
   "source": [
    "'주사위 6번 던지기'를 30번 반복했을 때 1이 나온 평균들의 분포를 알아보자.\n",
    "\n",
    "표본평균의 분포를 그래프로 확인하기 위해 \"'주사위 6번 던지기'를 30번 반복하기\"를 1000번 정도 해보도록 하자."
   ]
  },
  {
   "cell_type": "code",
   "execution_count": 8,
   "metadata": {},
   "outputs": [
    {
     "data": {
      "text/plain": [
       "<matplotlib.axes._subplots.AxesSubplot at 0x111597750>"
      ]
     },
     "execution_count": 8,
     "metadata": {},
     "output_type": "execute_result"
    },
    {
     "data": {
      "image/png": "[encoded data removed]",
      "text/plain": [
       "<matplotlib.figure.Figure at 0x111583f90>"
      ]
     },
     "metadata": {},
     "output_type": "display_data"
    }
   ],
   "source": [
    "count_ones_mean = np.empty([1000, ], dtype=float)\n",
    "\n",
    "for times in np.arange(1000):\n",
    "    count_ones_mean[times] = cube_experiment(100).mean()\n",
    "\n",
    "sns.distplot(count_ones_mean, kde=True)"
   ]
  }
 ],
 "metadata": {
  "kernelspec": {
   "display_name": "Python 2",
   "language": "python",
   "name": "python2"
  },
  "language_info": {
   "codemirror_mode": {
    "name": "ipython",
    "version": 2
   },
   "file_extension": ".py",
   "mimetype": "text/x-python",
   "name": "python",
   "nbconvert_exporter": "python",
   "pygments_lexer": "ipython2",
   "version": "2.7.13"
  }
 },
 "nbformat": 4,
 "nbformat_minor": 1
}
