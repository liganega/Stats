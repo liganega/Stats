{
 "cells": [
  {
   "cell_type": "markdown",
   "metadata": {},
   "source": [
    "# 2017년 2학기 확률과통계 기말고사\n",
    "\n",
    "* 이름:\n",
    "\n",
    "* 학번:\n",
    "\n",
    "* 점수\n",
    "\n",
    "<p>\n",
    "<table cellspacing=\"30\" border=\"1\">\n",
    "<tr>\n",
    "<td>문제 1</td> <td>문제 2</td> <td>문제 3</td> <td>문제 4</td> <td>문제 5</td>\n",
    "<td>문제 6</td> <td>문제 7</td> <td>문제 8</td> <td>문제 9</td> <td>문제 10</td>\n",
    "<td>합 계</td>\n",
    "</tr>\n",
    "\n",
    "<tr>\n",
    "<td></td> <td></td> <td></td> <td></td> <td></td>\n",
    "<td></td> <td></td> <td></td> <td></td> <td></td>\n",
    "<td></td>\n",
    "</tr>\n",
    "\n",
    "</table>\n",
    "</p>"
   ]
  },
  {
   "cell_type": "markdown",
   "metadata": {},
   "source": [
    "# 문제 1\n",
    "\n",
    "(1) 10마리의 말이 경주할 경우에 1, 2, 3 등을 맞출 확률을 계산하라.\n",
    "\n",
    "(2) 10마리의 말이 경주할 경우에 3등 안에 들어갈 세 마리의 말을 맞출 확률을 계산하라.\n",
    "\n",
    "(3) ${}^n P_r$과 ${}^n C_r$의 차리점을 설명하라."
   ]
  },
  {
   "cell_type": "markdown",
   "metadata": {},
   "source": [
    "```\n",
    "\n",
    "\n",
    "\n",
    "\n",
    "\n",
    "\n",
    "\n",
    "\n",
    "\n",
    ".\n",
    "```"
   ]
  },
  {
   "cell_type": "markdown",
   "metadata": {},
   "source": [
    "# 문제 2\n",
    "\n",
    "주사위를 n번 던져서 2보다 큰 소수가 나오는 횟수의 분포는 이항분포를 따른다. \n",
    "어떤 이항분포를 따르는지 설명하라."
   ]
  },
  {
   "cell_type": "markdown",
   "metadata": {},
   "source": [
    "```\n",
    "\n",
    "\n",
    "\n",
    "\n",
    ".\n",
    "```"
   ]
  },
  {
   "cell_type": "markdown",
   "metadata": {},
   "source": [
    "# 문제 3\n",
    "\n",
    "주어진 시간구간에 사건이 발생하는 수를 $X$라 하자. \n",
    "만약 $X$가 동일한 시간구간마다 발생하는 횟수의 평균값이 $\\lambda$이라면, \n",
    "$X$는 푸아송 분포를 따른다고 말하고 아래와 같이 표기한다.\n",
    "$$X \\sim Po(\\lambda)$$\n",
    "\n",
    "(1) 푸아송 분포의 기대치와 분산을 구하라.\n",
    "\n",
    "(2) $X$와 $Y$가 독립확률변수라고 가정하자. \n",
    "또한 $X$, $Y$가 각각 아래 모양의 푸아송 분포를 따른다.\n",
    "$$X \\sim Po(\\lambda_x)$$\n",
    "\n",
    "$$Y \\sim Po(\\lambda_y)$$\n",
    "\n",
    "$X + Y$는 어떤 분포를 따르는가? 또한 $X+Y$의 기대치 $E(X + Y)$와 분산 $Var(X + Y)$를 계산하라."
   ]
  },
  {
   "cell_type": "markdown",
   "metadata": {},
   "source": [
    "```\n",
    "\n",
    "\n",
    "\n",
    "\n",
    "\n",
    "\n",
    ".\n",
    "```"
   ]
  },
  {
   "cell_type": "markdown",
   "metadata": {},
   "source": [
    "# 문제 4\n",
    "\n",
    "아래 데이터 중에서 이산데이터와 연속데이터를 구분하라.\n",
    "\n",
    "1. 슬롯머신에서 정해진 상금액\n",
    "* 한국 성인 여성들의 키\n",
    "* 초등학교 학급당 인원 수\n",
    "* 올림픽 출전 선수들의 100m 달리기 기록\n",
    "* 동전던지기에서 앞면이 나온 횟수\n",
    "* 한라산에 있는 참나무 잎파리의 길이"
   ]
  },
  {
   "cell_type": "markdown",
   "metadata": {},
   "source": [
    "# 문제 5\n",
    "\n",
    "아래 그래프는 세 개의 정규분포 확률밀도함수 곡선을 보여준다. \n",
    "세 곡선의 공통점과 차이점을 설명하라.\n",
    "\n",
    "<p>\n",
    "<table cellspacing=\"20\">\n",
    "<tr>\n",
    "<td>\n",
    "<img src=\"images/stats-final001.png\", width=400>\n",
    "</td>\n",
    "</tr>\n",
    "</table>\n",
    "</p>"
   ]
  },
  {
   "cell_type": "markdown",
   "metadata": {},
   "source": [
    "```\n",
    "\n",
    "\n",
    "\n",
    "\n",
    "\n",
    "\n",
    "\n",
    ".\n",
    "```"
   ]
  },
  {
   "cell_type": "markdown",
   "metadata": {},
   "source": [
    "아래 표(테이블)는 표준정규분포의 확률테이블이다.\n",
    "\n",
    "<p>\n",
    "<table cellspacing=\"20\">\n",
    "<tr>\n",
    "<td>\n",
    "<img src=\"images/stats-final002.png\", width=400>\n",
    "</td>\n",
    "</tr>\n",
    "</table>\n",
    "</p>"
   ]
  },
  {
   "cell_type": "markdown",
   "metadata": {},
   "source": [
    "# 문제 6\n",
    "\n",
    "$X \\sim N(173.5, 5.17^2)$이라 하자. 다음 질문에 답하라.\n",
    "\n",
    "(1) $P(X > 180)$을 계산하라.\n",
    "\n",
    "(2) $P(X < 185)$을 계산하라.\n",
    "\n",
    "(3) $P(180 < X < 185)$을 계산하라.\n",
    "\n"
   ]
  },
  {
   "cell_type": "markdown",
   "metadata": {},
   "source": [
    "```\n",
    "\n",
    "\n",
    "\n",
    "\n",
    "\n",
    "\n",
    "\n",
    ".\n",
    "```"
   ]
  },
  {
   "cell_type": "markdown",
   "metadata": {},
   "source": [
    "# 문제 7\n",
    "\n",
    "커피와 도넛을 판매하는 매장에서 손님들이 두 제품을 구입하는 확률이 다음과 같이 주어졌다.\n",
    "\n",
    "* P(도넛) = 3/4     \n",
    "* P(커피 | 도넛') = 1/3     \n",
    "* P(도넛 $\\cap$ 커피) = 9/20\n",
    "\n",
    "이제 아래 확률을 구하라. 힌트: 아래 공식을 활용한다.\n",
    "$$P(A' \\mid B) = 1 - P(A \\mid B)$$\n",
    "\n",
    "$$P(A) = P(A \\cap B) + P(A \\cap B')$$\n",
    "\n",
    "$$P(A \\mid B) = \\frac{P(A \\cap B)}{P(B)}$$\n",
    "(1) P(도넛') = \n",
    "\n",
    "```\n",
    "```\n",
    "\n",
    "(2) P(도넛' $\\cap$ 커피) = \n",
    "\n",
    "```\n",
    "```\n",
    "\n",
    "(3) P(커피' | 도넛) = \n",
    "\n",
    "```\n",
    "```\n",
    "\n",
    "(4) P(커피) = \n",
    "\n",
    "```\n",
    "```\n",
    "\n",
    "(5) P(도넛 | 커피) = \n",
    "\n",
    "```\n",
    "```"
   ]
  },
  {
   "cell_type": "markdown",
   "metadata": {},
   "source": [
    "# 문제 8\n",
    "\n",
    "어느 병원에서 암진단에 대한 아래의 자료를 갖고 있다.\n",
    "\n",
    "* 암진단 검사를 받는 사람 중에 암에 걸릴 확률은 20%이고, 그렇지 않을 확률은 80%이다. \n",
    "* 암에 걸린 사람 중에 암진단 결과가 양성일 확률이 90%이고, 음성일 확률이 10%이다.\n",
    "* 반면에 암에 걸리지 않은 사람 중에 암진단 결과가 양성일 확률은 30%이고, 음성일 확률은 70%이다.\n",
    "\n",
    "이제 임의로 한 사람을 진단해 보니 양성으로 판명되었다. 그 사람이 실제로는 암에 걸리지 않았을 확률을 계산하라.\n",
    "\n",
    "힌트: \n",
    "\n",
    "* 분수로만 계산한다.\n",
    "* 아래 베이즈 공식을 활용한다.\n",
    "\n",
    "$$P(A \\mid B) = \\frac{P(A)\\cdot P(B \\mid A)}{P(A)\\cdot P(B \\mid A) + P(A') \\cdot P(B \\mid A')}$$"
   ]
  },
  {
   "cell_type": "markdown",
   "metadata": {},
   "source": [
    "```\n",
    "\n",
    "\n",
    "\n",
    "\n",
    "\n",
    "\n",
    "\n",
    "\n",
    "\n",
    "\n",
    "\n",
    "\n",
    "\n",
    "\n",
    ".\n",
    "```"
   ]
  },
  {
   "cell_type": "markdown",
   "metadata": {},
   "source": [
    "# 문제 9\n",
    "\n",
    "어느 매점에서 행운의 과자를 500원에 판다.\n",
    "각 과자 속에는 경우에 따라 할인권이 아래의 확률로 들어 있다.\n",
    "\n",
    "* 2천원 할인권의 확률은 10%\n",
    "* 5천원 할인권의 확률은 7%\n",
    "* 만원 할인권의 확률은 3%\n",
    "\n",
    "(1) 행운의 과자를 살 때의 순수익을 나타내는 확률변수를 X라 할 때 기대치 E(X)와 분산 Var(X)를 구하라.\n",
    "\n",
    "힌트: 아래 공식을 참조한다.\n",
    "\n",
    "$$E(X) = \\sum x\\, P(X = x)$$\n",
    "\n",
    "$$Var(X) = E(X - \\mu)^2$$\n",
    "```\n",
    "\n",
    "\n",
    "\n",
    "\n",
    "\n",
    "\n",
    "\n",
    "\n",
    "\n",
    ".\n",
    "```\n",
    "\n",
    "(2) 행운의 과자 가격을 천원으로 올렸을 때의 기대치와 분산을 구하라.\n",
    "```\n",
    "\n",
    "\n",
    "\n",
    "\n",
    "\n",
    "\n",
    "\n",
    "\n",
    "\n",
    "\n",
    "\n",
    ".\n",
    "```"
   ]
  },
  {
   "cell_type": "markdown",
   "metadata": {},
   "source": [
    "# 문제 10\n",
    "\n",
    "아래 테이블의 각 항목에서 기대치 또는 분산에 대한 간단한 공식을 채워 넣어라.\n",
    "단, 다음 사항에 주의한다.\n",
    "\n",
    "* X와 Y는 서로 영향을 주지 않는 확률변수들이다.\n",
    "* X${}_1$, X${}_2$, X${}_3$는 X와 동일한 확률분포를 갖는 독립관측들이다.\n",
    "* X${}^2$는 X의 확률분포에서 확률변수의 값들을 제곱해서 얻어지는 확률분포를 의미한다.\n",
    "* f는 확률변수를 선형으로 변화시키는 함수이다.\n",
    "\n",
    "<p>\n",
    "<table cellspacing=\"20\">\n",
    "<tr>\n",
    "<td>\n",
    "<img src=\"images/stats-mid012.png\", width=500>\n",
    "</td>\n",
    "</tr>\n",
    "</table>\n",
    "</p>\n"
   ]
  }
 ],
 "metadata": {
  "kernelspec": {
   "display_name": "Python 2",
   "language": "python",
   "name": "python2"
  },
  "language_info": {
   "codemirror_mode": {
    "name": "ipython",
    "version": 2
   },
   "file_extension": ".py",
   "mimetype": "text/x-python",
   "name": "python",
   "nbconvert_exporter": "python",
   "pygments_lexer": "ipython2",
   "version": "2.7.13"
  }
 },
 "nbformat": 4,
 "nbformat_minor": 2
}
