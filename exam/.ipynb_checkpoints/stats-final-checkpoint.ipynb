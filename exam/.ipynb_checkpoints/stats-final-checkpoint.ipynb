{
 "cells": [
  {
   "cell_type": "markdown",
   "metadata": {},
   "source": [
    "# 2017년 2학기 확률과통계 기말고사\n",
    "\n",
    "* 이름:\n",
    "\n",
    "* 학번:"
   ]
  },
  {
   "cell_type": "markdown",
   "metadata": {},
   "source": [
    "# 문제 1\n",
    "\n",
    "(1) 10마리의 말이 경주할 경우에 1, 2, 3 등을 맞출 확률을 계산하라.\n",
    "\n",
    "(2) 10마리의 말이 경주할 경우에 3등 안에 들어갈 세 마리의 말을 맞출 확률을 계산하라.\n",
    "\n",
    "힌트: 분수로만 계산한다."
   ]
  },
  {
   "cell_type": "code",
   "execution_count": 3,
   "metadata": {
    "collapsed": true
   },
   "outputs": [],
   "source": [
    "import math"
   ]
  },
  {
   "cell_type": "code",
   "execution_count": 6,
   "metadata": {},
   "outputs": [
    {
     "data": {
      "text/plain": [
       "5040"
      ]
     },
     "execution_count": 6,
     "metadata": {},
     "output_type": "execute_result"
    }
   ],
   "source": [
    "import math\n",
    "math.factorial(7)"
   ]
  },
  {
   "cell_type": "markdown",
   "metadata": {},
   "source": [
    "```\n",
    "\n",
    "\n",
    ".\n",
    "```"
   ]
  },
  {
   "cell_type": "markdown",
   "metadata": {},
   "source": [
    "# 문제 2\n",
    "\n",
    "주사위를 n번 던져서 2보다 큰 소수가 나오는 횟수의 분포는 이항분포를 따른다. \n",
    "어떤 이항분포를 따르는지 설명하라."
   ]
  },
  {
   "cell_type": "markdown",
   "metadata": {},
   "source": [
    "```\n",
    "\n",
    "```"
   ]
  },
  {
   "cell_type": "markdown",
   "metadata": {},
   "source": [
    "# 문제 3\n",
    "\n",
    "주어진 시간구간에 사건이 발생하는 수를 $X$라 하자. \n",
    "만약 $X$가 동일한 시간구간마다 발생하는 횟수의 평균값이 $\\lambda$이라면, \n",
    "$X$는 푸아송 분포를 따른다고 말하고 $X \\sim Po(\\lambda)$으로 표기한다.\n",
    "\n",
    "(1) 푸아송 분포의 기대치와 분산을 구하라.\n",
    "\n",
    "(2) $X$와 $Y$가 독립확률변수이고, 각각이 아래 모양의 푸아송 분포를 따른다: \n",
    "$X \\sim Po(\\lambda_x)$, $Y \\sim Po(\\lambda_y)$.\n",
    "이때 $X + Y$는 어떤 분포를 따르는가? 또한 $X+Y$의 기대치 $E(X + Y)$와 분산 $Var(X + Y)$를 계산하라."
   ]
  },
  {
   "cell_type": "markdown",
   "metadata": {},
   "source": [
    "# 문제 4\n",
    "\n",
    "아래 데이터 중에서 이산데이터와 연속데이터를 구분하라.\n",
    "\n",
    "1. 슬롯머신에서 정해진 상금액\n",
    "* 한국 성인 여성들의 키\n",
    "* 초등학교 학급당 인원 수\n",
    "* 올림픽 출전 선수들의 100m 달리기 기록\n",
    "* 동전던지기에서 앞면이 나온 횟수\n",
    "* 한라산에 있는 참나무 잎파리의 길이"
   ]
  },
  {
   "cell_type": "markdown",
   "metadata": {},
   "source": [
    "```\n",
    "\n",
    "```"
   ]
  },
  {
   "cell_type": "markdown",
   "metadata": {},
   "source": [
    "# 문제 5\n",
    "\n",
    "아래 그래프는 네 개의 정규분포 확률밀도함수 곡선을 보여준다. \n",
    "세 곡선의 공통점과 차이점을 설명하라.\n",
    "\n",
    "<p>\n",
    "<table cellspacing=\"20\">\n",
    "<tr>\n",
    "<td>\n",
    "<img src=\"images/stats-final001.png\", width=350>\n",
    "</td>\n",
    "</tr>\n",
    "</table>\n",
    "</p>"
   ]
  },
  {
   "cell_type": "markdown",
   "metadata": {},
   "source": [
    "```\n",
    "\n",
    "\n",
    "\n",
    ".\n",
    "```"
   ]
  },
  {
   "cell_type": "markdown",
   "metadata": {},
   "source": [
    "아래 표는 표준정규분포의 확률테이블이다.\n",
    "\n",
    "<p>\n",
    "<table cellspacing=\"20\">\n",
    "<tr>\n",
    "<td>\n",
    "<img src=\"images/stats-final002.png\", width=400>\n",
    "</td>\n",
    "</tr>\n",
    "</table>\n",
    "</p>"
   ]
  },
  {
   "cell_type": "markdown",
   "metadata": {},
   "source": [
    "# 문제 6\n",
    "\n",
    "$X \\sim N(178, 5^2)$이라 하자. \n",
    "$P(X > 180)$와 $P(180 < X < 185)$을 계산하라.\n",
    "\n"
   ]
  },
  {
   "cell_type": "markdown",
   "metadata": {},
   "source": [
    "```\n",
    "\n",
    "\n",
    ".\n",
    "```"
   ]
  },
  {
   "cell_type": "markdown",
   "metadata": {},
   "source": [
    "# 문제 7\n",
    "\n",
    "$X \\sim B(16, \\frac 1 2)$라고 하자. \n",
    "정규분포 및 연속성 보정을 활용하여 아래 질문에 답하라.\n",
    "\n",
    "(1) $P(7 < X)$을 계산하라.\n",
    "\n",
    "(2) $P(7 < X < 8.5)$을 계산하라."
   ]
  },
  {
   "cell_type": "markdown",
   "metadata": {},
   "source": [
    "# 중심극한정리\n",
    "\n",
    "모집단 $X$에서 표본을 추출할 때 표본의 크기 $n$이 충분히 크면 $\\bar X$의 분포가 개략적으로 정규분포를 따른다.\n",
    "\n",
    "또한 $E(X) = \\mu$이고 $Var(X) = \\sigma^2$이면 다음이 성립한다.\n",
    "$$\\bar X \\sim N(\\mu, \\sigma^2/n)$$"
   ]
  },
  {
   "cell_type": "markdown",
   "metadata": {},
   "source": [
    "# 문제 8\n",
    "\n",
    "영화관의 팝콘기계의 주당 평균 고장횟수는 푸아송 분포를 따르며 $X \\sim Po(3.4)$가 성립한다.\n",
    "30주 동안 조사해 보았을 때 주당 고장횟수의 평균이 4회 이상일 확률을 구하라.\n",
    "\n",
    "힌트: $\\sqrt{0.113} = 0.337$"
   ]
  },
  {
   "cell_type": "markdown",
   "metadata": {},
   "source": [
    "```\n",
    "\n",
    "\n",
    "\n",
    "\n",
    "\n",
    ".\n",
    "```"
   ]
  },
  {
   "cell_type": "markdown",
   "metadata": {},
   "source": [
    "아래 표는 신뢰구간 설정 공식을 경우별로 담고 있다.\n",
    "\n",
    "<p>\n",
    "<table cellspacing=\"20\">\n",
    "<tr>\n",
    "<td>\n",
    "<img src=\"images/stats-final004.png\", width=400>\n",
    "</td>\n",
    "</tr>\n",
    "</table>\n",
    "</p>\n"
   ]
  },
  {
   "cell_type": "markdown",
   "metadata": {},
   "source": [
    "# 문제 9\n",
    "\n",
    "지지율 설문조사가 대표적인 표본비율의 분포를 사용한다. \n",
    "아래 그림에서 언급된 표집오차(95% 신뢰수준 $\\pm$ 2.5%p)를 설명하라.\n",
    "(힌트: 정확한 계산은 요구하지 않음)\n",
    "\n",
    "<p>\n",
    "<table cellspacing=\"20\">\n",
    "<tr>\n",
    "<td>\n",
    "<img src=\"images/stats-final003.jpg\", width=400>\n",
    "</td>\n",
    "</tr>\n",
    "</table>\n",
    "</p>\n"
   ]
  },
  {
   "cell_type": "markdown",
   "metadata": {},
   "source": [
    "```\n",
    "\n",
    "\n",
    ".\n",
    "```"
   ]
  },
  {
   "cell_type": "markdown",
   "metadata": {},
   "source": [
    "# 문제 10\n",
    "\n",
    "가설검정 6단계를 순서별로 나열하라.\n",
    "\n",
    "1. 기각역 설정\n",
    "* 가설 수용여부 판단\n",
    "* 영가설과 대립가설 설정\n",
    "* p-값 확인\n",
    "* p-값의 기각역 포함 여부 확인\n",
    "* 검정통계 설정"
   ]
  },
  {
   "cell_type": "markdown",
   "metadata": {},
   "source": [
    "```\n",
    "```"
   ]
  },
  {
   "cell_type": "markdown",
   "metadata": {},
   "source": [
    "# 문제 11\n",
    "\n",
    "어느 고등학교에서 지난 몇 년 동안 학교생활만족도를 조사한 결과 만족도 평균값이 78%였다.\n",
    "올 해 조사한 만족도는 70%였다. 학교생활만족도가 의미있게 변화하였는지 여부를 가설검정하고자 할 때 필요한 영가설과 대립가설을 설정하라."
   ]
  }
 ],
 "metadata": {
  "kernelspec": {
   "display_name": "Python 2",
   "language": "python",
   "name": "python2"
  },
  "language_info": {
   "codemirror_mode": {
    "name": "ipython",
    "version": 2
   },
   "file_extension": ".py",
   "mimetype": "text/x-python",
   "name": "python",
   "nbconvert_exporter": "python",
   "pygments_lexer": "ipython2",
   "version": "2.7.13"
  }
 },
 "nbformat": 4,
 "nbformat_minor": 2
}
